{
 "cells": [
  {
   "cell_type": "code",
   "execution_count": 101,
   "id": "aeb5c64a-0f98-4ac8-b940-460ca4f4f0ce",
   "metadata": {},
   "outputs": [],
   "source": [
    "class Account_Information:\n",
    "    def __init__(self):\n",
    "        print(' 1. Create an Account\\n ' '2. Log in \\n','3. Exit \\n ')\n",
    "        answer = int(input('Enter Option: '))\n",
    "        if answer == 1:\n",
    "            print('Create Account!!!')\n",
    "            self.create_account()\n",
    "    #creating a personal account\n",
    "    def create_account(self):\n",
    "        import csv\n",
    "        self.first_name = input('Enter First Name')\n",
    "        self.last_name = input('Enter Last Name')\n",
    "        self.middle_name = input('Enter Middle Name')\n",
    "        self.age = int(input('Enter Age'))\n",
    "        self.gender = input('Enter Gender')\n",
    "        self.account_balance = 0\n",
    "        self.account_number  = self.account_number()\n",
    "        data  = []\n",
    "        data.append([self.first_name,self.last_name,self.middle_name,self.age,self.gender,self.account_number,self.account_balance])\n",
    "        with open('information.csv', 'a',newline='') as info:\n",
    "            writer = csv.writer(info, delimiter=',')\n",
    "            fieldnames = ['First_Name','Last_Name','Middle_Name','Age','Gender','Account_Number','Account Balance']\n",
    "            writer.writerow(fieldnames)\n",
    "            for row in data:\n",
    "                writer.writerow(row)\n",
    "        print(f'Hello, {self.last_name.upper()},{self.first_name.capitalize()} Your Account Number is {self.account_number}')\n",
    "        \n",
    "    def account_number(self):\n",
    "        import random\n",
    "        account_no = ''\n",
    "        for i in range(9):\n",
    "            num =random.randint(0,9)\n",
    "            account_no += str(num)\n",
    "        return account_no\n",
    "        \n",
    "        \n",
    "        \n",
    "        \n",
    "        \n",
    "        "
   ]
  },
  {
   "cell_type": "code",
   "execution_count": 102,
   "id": "181f2e49-a0c0-42e1-8498-6285bf97b409",
   "metadata": {},
   "outputs": [
    {
     "name": "stdout",
     "output_type": "stream",
     "text": [
      " 1. Create an Account\n",
      " 2. Log in \n",
      " 3. Exit \n",
      " \n"
     ]
    },
    {
     "name": "stdin",
     "output_type": "stream",
     "text": [
      "Enter Option:  1\n"
     ]
    },
    {
     "name": "stdout",
     "output_type": "stream",
     "text": [
      "Create Account!!!\n"
     ]
    },
    {
     "name": "stdin",
     "output_type": "stream",
     "text": [
      "Enter First Name Ayomide\n",
      "Enter Last Name Ameen\n",
      "Enter Middle Name Abdulrasheed\n",
      "Enter Age 17\n",
      "Enter Gender male\n"
     ]
    },
    {
     "name": "stdout",
     "output_type": "stream",
     "text": [
      "Hello, AMEEN,Ayomide Your Account Number is 837805745\n"
     ]
    },
    {
     "data": {
      "text/plain": [
       "<__main__.Account_Information at 0x7f6fe6bb94c0>"
      ]
     },
     "execution_count": 102,
     "metadata": {},
     "output_type": "execute_result"
    }
   ],
   "source": [
    "Account_Information()"
   ]
  },
  {
   "cell_type": "code",
   "execution_count": null,
   "id": "13817483-e589-45d2-86a4-5f124491469a",
   "metadata": {},
   "outputs": [],
   "source": [
    " writer = csv.writer(info, delimiter=',')\n",
    "            fieldnames = ['First_Name','Last_Name','Middle_Name','Age','Gender']"
   ]
  },
  {
   "cell_type": "code",
   "execution_count": 56,
   "id": "84bf8f9d-5d47-4bee-89de-242f5e9309bb",
   "metadata": {},
   "outputs": [],
   "source": [
    "        \n",
    "        \n",
    "        \n",
    "        \n",
    "    def account_number():\n",
    "        import random\n",
    "        account_no = ''\n",
    "        for i in range(9):\n",
    "            num =random.randint(0,9)\n",
    "            account_no += str(num)\n",
    "        return account_no\n",
    "    def __repr__(self):\n",
    "        return f' Hello {self.last_name.upper()}, {self.first_name.capitalize()} Your account number is {account_number()}'\n",
    "    #def check_account(self):\n",
    "        \n",
    "    "
   ]
  },
  {
   "cell_type": "code",
   "execution_count": 57,
   "id": "9ceae407-4491-47ec-8d5e-2afaa830d965",
   "metadata": {},
   "outputs": [
    {
     "name": "stdin",
     "output_type": "stream",
     "text": [
      "Enter First Name ayomide\n",
      "Enter Last Name AMeen\n",
      "Enter Middle Name qwer\n",
      "Enter Age 15\n",
      "Enter Gender mlae\n"
     ]
    },
    {
     "data": {
      "text/plain": [
       " Hello AMEEN, Ayomide Your account number is 133718653"
      ]
     },
     "execution_count": 57,
     "metadata": {},
     "output_type": "execute_result"
    }
   ],
   "source": [
    "Account_Information()"
   ]
  },
  {
   "cell_type": "code",
   "execution_count": 35,
   "id": "c4a8fc7c-0407-4f22-a127-165e7d2d0b18",
   "metadata": {},
   "outputs": [],
   "source": [
    "def account_number():\n",
    "    import random\n",
    "    acc = ''\n",
    "    for i in range(9):\n",
    "        n =random.randint(0,9)\n",
    "        acc += str(n)\n",
    "    return acc"
   ]
  },
  {
   "cell_type": "code",
   "execution_count": 36,
   "id": "bec20282-1bd2-42a8-880d-b4da55710bfb",
   "metadata": {},
   "outputs": [
    {
     "data": {
      "text/plain": [
       "'425168074'"
      ]
     },
     "execution_count": 36,
     "metadata": {},
     "output_type": "execute_result"
    }
   ],
   "source": [
    "account_number()"
   ]
  },
  {
   "cell_type": "code",
   "execution_count": 51,
   "id": "703f1333-21f1-4c8b-a839-9498ff20e246",
   "metadata": {},
   "outputs": [],
   "source": [
    "with open(\"data/phonebook.txt\", \"w\") as phonebookFile:\n",
    "    for name, phone_number in phonebook.items():\n",
    "        print(f\"{name},{phone_number}\", file=phonebookFile)"
   ]
  },
  {
   "cell_type": "code",
   "execution_count": null,
   "id": "83e8b5a0-a447-465e-af53-31a0110872f0",
   "metadata": {},
   "outputs": [],
   "source": []
  }
 ],
 "metadata": {
  "kernelspec": {
   "display_name": "Python 3 (ipykernel)",
   "language": "python",
   "name": "python3"
  },
  "language_info": {
   "codemirror_mode": {
    "name": "ipython",
    "version": 3
   },
   "file_extension": ".py",
   "mimetype": "text/x-python",
   "name": "python",
   "nbconvert_exporter": "python",
   "pygments_lexer": "ipython3",
   "version": "3.9.12"
  }
 },
 "nbformat": 4,
 "nbformat_minor": 5
}
