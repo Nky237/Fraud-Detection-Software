{
 "cells": [
  {
   "cell_type": "code",
   "execution_count": 56,
   "id": "d6ba111e-0f50-47c5-b32f-5e8a7a1e726c",
   "metadata": {},
   "outputs": [],
   "source": [
    "class Account_Information:\n",
    "    #creating a personal account\n",
    "    def __init__(self):\n",
    "        self.first_name = input('Enter First Name')\n",
    "        self.last_name = input('Enter Last Name')\n",
    "        self.middle_name = input('Enter Middle Name')\n",
    "        self.age = int(input('Enter Age'))\n",
    "        self.gender = input('Enter Gender')\n",
    "        information = f'{self.first_name}'\n",
    "        with open('account_information.txt','w') as acc:\n",
    "            acc.write(f'{self.last_name}{self.last_name}{self.middle_name}{self.age},{self.gender}')\n",
    "        \n",
    "        \n",
    "        \n",
    "        \n",
    "        \n",
    "        \n",
    "        \n",
    "        \n",
    "        \n",
    "        \n",
    "        \n",
    "        \n",
    "        \n",
    "        \n",
    "    def account_number():\n",
    "        import random\n",
    "        account_no = ''\n",
    "        for i in range(9):\n",
    "            num =random.randint(0,9)\n",
    "            account_no += str(num)\n",
    "        return account_no\n",
    "    def __repr__(self):\n",
    "        return f' Hello {self.last_name.upper()}, {self.first_name.capitalize()} Your account number is {account_number()}'\n",
    "    #def check_account(self):\n",
    "        \n",
    "    "
   ]
  },
  {
   "cell_type": "code",
   "execution_count": 57,
   "id": "9ceae407-4491-47ec-8d5e-2afaa830d965",
   "metadata": {},
   "outputs": [
    {
     "name": "stdin",
     "output_type": "stream",
     "text": [
      "Enter First Name ayomide\n",
      "Enter Last Name AMeen\n",
      "Enter Middle Name qwer\n",
      "Enter Age 15\n",
      "Enter Gender mlae\n"
     ]
    },
    {
     "data": {
      "text/plain": [
       " Hello AMEEN, Ayomide Your account number is 133718653"
      ]
     },
     "execution_count": 57,
     "metadata": {},
     "output_type": "execute_result"
    }
   ],
   "source": [
    "Account_Information()"
   ]
  },
  {
   "cell_type": "code",
   "execution_count": 35,
   "id": "c4a8fc7c-0407-4f22-a127-165e7d2d0b18",
   "metadata": {},
   "outputs": [],
   "source": [
    "def account_number():\n",
    "    import random\n",
    "    acc = ''\n",
    "    for i in range(9):\n",
    "        n =random.randint(0,9)\n",
    "        acc += str(n)\n",
    "    return acc"
   ]
  },
  {
   "cell_type": "code",
   "execution_count": 36,
   "id": "bec20282-1bd2-42a8-880d-b4da55710bfb",
   "metadata": {},
   "outputs": [
    {
     "data": {
      "text/plain": [
       "'425168074'"
      ]
     },
     "execution_count": 36,
     "metadata": {},
     "output_type": "execute_result"
    }
   ],
   "source": [
    "account_number()"
   ]
  },
  {
   "cell_type": "code",
   "execution_count": 51,
   "id": "703f1333-21f1-4c8b-a839-9498ff20e246",
   "metadata": {},
   "outputs": [],
   "source": [
    "with open(\"data/phonebook.txt\", \"w\") as phonebookFile:\n",
    "    for name, phone_number in phonebook.items():\n",
    "        print(f\"{name},{phone_number}\", file=phonebookFile)"
   ]
  },
  {
   "cell_type": "code",
   "execution_count": null,
   "id": "83e8b5a0-a447-465e-af53-31a0110872f0",
   "metadata": {},
   "outputs": [],
   "source": []
  }
 ],
 "metadata": {
  "kernelspec": {
   "display_name": "Python 3 (ipykernel)",
   "language": "python",
   "name": "python3"
  },
  "language_info": {
   "codemirror_mode": {
    "name": "ipython",
    "version": 3
   },
   "file_extension": ".py",
   "mimetype": "text/x-python",
   "name": "python",
   "nbconvert_exporter": "python",
   "pygments_lexer": "ipython3",
   "version": "3.9.12"
  }
 },
 "nbformat": 4,
 "nbformat_minor": 5
}
